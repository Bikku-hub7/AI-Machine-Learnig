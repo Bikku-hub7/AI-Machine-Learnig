{
  "nbformat": 4,
  "nbformat_minor": 0,
  "metadata": {
    "colab": {
      "provenance": []
    },
    "kernelspec": {
      "name": "python3",
      "display_name": "Python 3"
    },
    "language_info": {
      "name": "python"
    }
  },
  "cells": [
    {
      "cell_type": "markdown",
      "source": [
        "# **Exercise on Functions**"
      ],
      "metadata": {
        "id": "uj3p29hqKZzV"
      }
    },
    {
      "cell_type": "markdown",
      "source": [
        "**Task 1: Unit Conversion Program**\n",
        "\n",
        "Create a Python program that converts between different units of measurement (length, weight, volume). The program should:\n",
        "\n",
        "Prompt the user to choose the type of conversion.\n",
        "\n",
        "Ask the user to input the value to be converted.\n",
        "\n",
        "Perform the conversion and display the result.\n",
        "\n",
        "Handle potential errors (e.g., invalid input)."
      ],
      "metadata": {
        "id": "vnQSIOUxKd_b"
      }
    },
    {
      "cell_type": "code",
      "execution_count": 1,
      "metadata": {
        "colab": {
          "base_uri": "https://localhost:8080/"
        },
        "id": "qk_zcNpPJ63V",
        "outputId": "de307d32-2509-4bd3-c7f1-48f7ae6a1a0b"
      },
      "outputs": [
        {
          "output_type": "stream",
          "name": "stdout",
          "text": [
            "Choose conversion type:\n",
            "1. Length\n",
            "2. Weight\n",
            "3. Volume\n",
            "Enter 1, 2, or 3: 3\n",
            "Enter the value to convert: 7\n",
            "1. Liters to Gallons\n",
            "2. Gallons to Liters\n",
            "Enter 1 or 2: 2\n",
            "7.0 gallons = 26.497887739805883 liters\n"
          ]
        }
      ],
      "source": [
        "def unit_converter():\n",
        "    \"\"\"\n",
        "    Converts between different units of measurement.\n",
        "    Options: length (meters to feet, feet to meters),\n",
        "             weight (kilograms to pounds, pounds to kilograms),\n",
        "             volume (liters to gallons, gallons to liters).\n",
        "    \"\"\"\n",
        "    try:\n",
        "        # Prompt user for conversion type\n",
        "        print(\"Choose conversion type:\")\n",
        "        print(\"1. Length\")\n",
        "        print(\"2. Weight\")\n",
        "        print(\"3. Volume\")\n",
        "        choice = int(input(\"Enter 1, 2, or 3: \"))\n",
        "\n",
        "        # Prompt user for value to convert\n",
        "        value = float(input(\"Enter the value to convert: \"))\n",
        "\n",
        "        # Perform conversion based on user choice\n",
        "        if choice == 1:\n",
        "            print(\"1. Meters to Feet\")\n",
        "            print(\"2. Feet to Meters\")\n",
        "            sub_choice = int(input(\"Enter 1 or 2: \"))\n",
        "            if sub_choice == 1:\n",
        "                result = value * 3.28084\n",
        "                print(f\"{value} meters = {result} feet\")\n",
        "            elif sub_choice == 2:\n",
        "                result = value / 3.28084\n",
        "                print(f\"{value} feet = {result} meters\")\n",
        "            else:\n",
        "                print(\"Invalid choice.\")\n",
        "        elif choice == 2:\n",
        "            print(\"1. Kilograms to Pounds\")\n",
        "            print(\"2. Pounds to Kilograms\")\n",
        "            sub_choice = int(input(\"Enter 1 or 2: \"))\n",
        "            if sub_choice == 1:\n",
        "                result = value * 2.20462\n",
        "                print(f\"{value} kg = {result} lbs\")\n",
        "            elif sub_choice == 2:\n",
        "                result = value / 2.20462\n",
        "                print(f\"{value} lbs = {result} kg\")\n",
        "            else:\n",
        "                print(\"Invalid choice.\")\n",
        "        elif choice == 3:\n",
        "            print(\"1. Liters to Gallons\")\n",
        "            print(\"2. Gallons to Liters\")\n",
        "            sub_choice = int(input(\"Enter 1 or 2: \"))\n",
        "            if sub_choice == 1:\n",
        "                result = value * 0.264172\n",
        "                print(f\"{value} liters = {result} gallons\")\n",
        "            elif sub_choice == 2:\n",
        "                result = value / 0.264172\n",
        "                print(f\"{value} gallons = {result} liters\")\n",
        "            else:\n",
        "                print(\"Invalid choice.\")\n",
        "        else:\n",
        "            print(\"Invalid choice.\")\n",
        "    except ValueError:\n",
        "        print(\"Invalid input. Please enter numeric values.\")\n",
        "\n",
        "# Call the function\n",
        "unit_converter()"
      ]
    },
    {
      "cell_type": "markdown",
      "source": [
        "**Task 2: Mathematical Operations on a List**\n",
        "\n",
        "Create a Python program that performs various mathematical operations on a list of numbers (sum, average, maximum, minimum)."
      ],
      "metadata": {
        "id": "KpwxwtYIKsa4"
      }
    },
    {
      "cell_type": "code",
      "source": [
        "def sum_list(numbers):\n",
        "    \"\"\"Returns the sum of a list of numbers.\"\"\"\n",
        "    return sum(numbers)\n",
        "\n",
        "def average_list(numbers):\n",
        "    \"\"\"Returns the average of a list of numbers.\"\"\"\n",
        "    return sum(numbers) / len(numbers)\n",
        "\n",
        "def max_list(numbers):\n",
        "    \"\"\"Returns the maximum value in a list of numbers.\"\"\"\n",
        "    return max(numbers)\n",
        "\n",
        "def min_list(numbers):\n",
        "    \"\"\"Returns the minimum value in a list of numbers.\"\"\"\n",
        "    return min(numbers)\n",
        "\n",
        "def math_operations():\n",
        "    \"\"\"\n",
        "    Performs mathematical operations on a list of numbers.\n",
        "    Options: sum, average, maximum, minimum.\n",
        "    \"\"\"\n",
        "    try:\n",
        "        # Prompt user for list of numbers\n",
        "        numbers = list(map(float, input(\"Enter a list of numbers separated by spaces: \").split()))\n",
        "\n",
        "        # Prompt user for operation\n",
        "        print(\"Choose operation:\")\n",
        "        print(\"1. Sum\")\n",
        "        print(\"2. Average\")\n",
        "        print(\"3. Maximum\")\n",
        "        print(\"4. Minimum\")\n",
        "        choice = int(input(\"Enter 1, 2, 3, or 4: \"))\n",
        "\n",
        "        # Perform operation based on user choice\n",
        "        if choice == 1:\n",
        "            result = sum_list(numbers)\n",
        "            print(f\"Sum: {result}\")\n",
        "        elif choice == 2:\n",
        "            result = average_list(numbers)\n",
        "            print(f\"Average: {result}\")\n",
        "        elif choice == 3:\n",
        "            result = max_list(numbers)\n",
        "            print(f\"Maximum: {result}\")\n",
        "        elif choice == 4:\n",
        "            result = min_list(numbers)\n",
        "            print(f\"Minimum: {result}\")\n",
        "        else:\n",
        "            print(\"Invalid choice.\")\n",
        "    except ValueError:\n",
        "        print(\"Invalid input. Please enter numeric values.\")\n",
        "\n",
        "# Call the function\n",
        "math_operations()"
      ],
      "metadata": {
        "colab": {
          "base_uri": "https://localhost:8080/"
        },
        "id": "h2lSQWNIKuny",
        "outputId": "3b3d4747-ad10-4cf7-94d1-5e72d0a66a66"
      },
      "execution_count": 2,
      "outputs": [
        {
          "output_type": "stream",
          "name": "stdout",
          "text": [
            "Enter a list of numbers separated by spaces: 5\n",
            "Choose operation:\n",
            "1. Sum\n",
            "2. Average\n",
            "3. Maximum\n",
            "4. Minimum\n",
            "Enter 1, 2, 3, or 4: 1\n",
            "Sum: 5.0\n"
          ]
        }
      ]
    },
    {
      "cell_type": "markdown",
      "source": [
        "# **Exercise on List Manipulation**"
      ],
      "metadata": {
        "id": "jFRzHleaK6To"
      }
    },
    {
      "cell_type": "markdown",
      "source": [
        "**Task 1: Extract Every Other Element**\n",
        "\n",
        "\n",
        "Write a Python function that extracts every other element from a list, starting from the first element."
      ],
      "metadata": {
        "id": "Gzo4jrUELGWU"
      }
    },
    {
      "cell_type": "code",
      "source": [
        "def extract_every_other(lst):\n",
        "    \"\"\"Extracts every other element from a list, starting from the first element.\"\"\"\n",
        "    return lst[::2]\n",
        "\n",
        "print(extract_every_other([1, 2, 3, 4, 5, 6]))"
      ],
      "metadata": {
        "colab": {
          "base_uri": "https://localhost:8080/"
        },
        "id": "SZxZzRwTLHlu",
        "outputId": "ded9a790-8518-4549-bf0c-03b64f0e3f17"
      },
      "execution_count": 3,
      "outputs": [
        {
          "output_type": "stream",
          "name": "stdout",
          "text": [
            "[1, 3, 5]\n"
          ]
        }
      ]
    },
    {
      "cell_type": "markdown",
      "source": [
        "**Task 2: Slice a Sublist**\n",
        "\n",
        "Write a Python function that returns a sublist from a given list, starting from a specified index and ending at another specified index."
      ],
      "metadata": {
        "id": "qHfjR7PdLJ0r"
      }
    },
    {
      "cell_type": "code",
      "source": [
        "def get_sublist(lst, start, end):\n",
        "    \"\"\"Returns a sublist from a given list, starting from start index and ending at end index.\"\"\"\n",
        "    return lst[start:end+1]\n",
        "print(get_sublist([1, 2, 3, 4, 5, 6], 2, 4))"
      ],
      "metadata": {
        "colab": {
          "base_uri": "https://localhost:8080/"
        },
        "id": "Rdr7MDJjLKuK",
        "outputId": "6721045d-dde2-4d99-c234-2015c3f3502a"
      },
      "execution_count": 4,
      "outputs": [
        {
          "output_type": "stream",
          "name": "stdout",
          "text": [
            "[3, 4, 5]\n"
          ]
        }
      ]
    },
    {
      "cell_type": "markdown",
      "source": [
        "**Task 3: Reverse a List Using Slicing**\n",
        "\n",
        "Write a Python function that reverses a list using slicing."
      ],
      "metadata": {
        "id": "ehhfzv6OLNXm"
      }
    },
    {
      "cell_type": "code",
      "source": [
        "def reverse_list(lst):\n",
        "    \"\"\"Reverses a list using slicing.\"\"\"\n",
        "    return lst[::-1]\n",
        "print(reverse_list([1, 2, 3, 4, 5]))"
      ],
      "metadata": {
        "colab": {
          "base_uri": "https://localhost:8080/"
        },
        "id": "clyslbYyLPjJ",
        "outputId": "80c22968-179b-4a48-9382-60526fc80400"
      },
      "execution_count": 6,
      "outputs": [
        {
          "output_type": "stream",
          "name": "stdout",
          "text": [
            "[5, 4, 3, 2, 1]\n"
          ]
        }
      ]
    },
    {
      "cell_type": "markdown",
      "source": [
        "**Task 4: Remove the First and Last Elements**\n",
        "\n",
        "Write a Python function that removes the first and last elements of a list and returns the resulting sublist."
      ],
      "metadata": {
        "id": "0rYwhG6zLS_p"
      }
    },
    {
      "cell_type": "code",
      "source": [
        "def remove_first_last(lst):\n",
        "    \"\"\"Removes the first and last elements of a list and returns the resulting sublist.\"\"\"\n",
        "    return lst[1:-1]\n",
        "print(remove_first_last([1, 2, 3, 4, 5]))"
      ],
      "metadata": {
        "colab": {
          "base_uri": "https://localhost:8080/"
        },
        "id": "SHZtJNzaLVgE",
        "outputId": "da3523f0-648a-4789-fc41-0cbcc8bc7f12"
      },
      "execution_count": 7,
      "outputs": [
        {
          "output_type": "stream",
          "name": "stdout",
          "text": [
            "[2, 3, 4]\n"
          ]
        }
      ]
    },
    {
      "cell_type": "markdown",
      "source": [
        "**Task 5: Get the First n Elements**\n",
        "\n",
        "Write a Python function that extracts the first n elements from a list."
      ],
      "metadata": {
        "id": "FLQTPiiCLYD1"
      }
    },
    {
      "cell_type": "code",
      "source": [
        "def get_first_n(lst, n):\n",
        "    \"\"\"Extracts the first n elements from a list.\"\"\"\n",
        "    return lst[:n]\n",
        "print(get_first_n([1, 2, 3, 4, 5], 3))"
      ],
      "metadata": {
        "colab": {
          "base_uri": "https://localhost:8080/"
        },
        "id": "bjldrUZULZd3",
        "outputId": "faee29c5-fdcc-462d-d052-43aa7869fc88"
      },
      "execution_count": 8,
      "outputs": [
        {
          "output_type": "stream",
          "name": "stdout",
          "text": [
            "[1, 2, 3]\n"
          ]
        }
      ]
    },
    {
      "cell_type": "markdown",
      "source": [
        "**Task 6: Extract Elements from the End**\n",
        "\n",
        "Write a Python function that extracts the last n elements of a list using slicing."
      ],
      "metadata": {
        "id": "wMDCflEgLc2T"
      }
    },
    {
      "cell_type": "code",
      "source": [
        "def get_last_n(lst, n):\n",
        "    \"\"\"Extracts the last n elements of a list using slicing.\"\"\"\n",
        "    return lst[-n:]\n",
        "print(get_last_n([1, 2, 3, 4, 5], 2))"
      ],
      "metadata": {
        "colab": {
          "base_uri": "https://localhost:8080/"
        },
        "id": "u0wkY2X7LeJt",
        "outputId": "845f5100-ae6c-41b4-b8ae-f4e8aa2b816d"
      },
      "execution_count": 9,
      "outputs": [
        {
          "output_type": "stream",
          "name": "stdout",
          "text": [
            "[4, 5]\n"
          ]
        }
      ]
    },
    {
      "cell_type": "markdown",
      "source": [
        "**Task 7: Extract Elements in Reverse Order**\n",
        "\n",
        "Write a Python function that extracts a list of elements in reverse order, starting from the second-to-last element and skipping one element in between."
      ],
      "metadata": {
        "id": "0xI-S4ruLiYT"
      }
    },
    {
      "cell_type": "code",
      "source": [
        "def reverse_skip(lst):\n",
        "    \"\"\"Extracts elements in reverse order, starting from the second-to-last element and skipping one element in between.\"\"\"\n",
        "    return lst[-2::-2]\n",
        "print(reverse_skip([1, 2, 3, 4, 5, 6]))"
      ],
      "metadata": {
        "colab": {
          "base_uri": "https://localhost:8080/"
        },
        "id": "AFFNmtYALp7g",
        "outputId": "03a71341-8f86-4a1d-9df8-25a38a4660fa"
      },
      "execution_count": 10,
      "outputs": [
        {
          "output_type": "stream",
          "name": "stdout",
          "text": [
            "[5, 3, 1]\n"
          ]
        }
      ]
    },
    {
      "cell_type": "markdown",
      "source": [
        "# **Exercise on Nested Lists**"
      ],
      "metadata": {
        "id": "7Uk2m3-dLse_"
      }
    },
    {
      "cell_type": "markdown",
      "source": [
        "**Task 1: Flatten a Nested List**\n",
        "\n",
        "Write a Python function that takes a nested list and flattens it into a single list."
      ],
      "metadata": {
        "id": "FI2XKVxfLuVs"
      }
    },
    {
      "cell_type": "code",
      "source": [
        "def flatten(lst):\n",
        "    \"\"\"Flattens a nested list into a single list.\"\"\"\n",
        "    flat_list = []\n",
        "    for sublist in lst:\n",
        "        if isinstance(sublist, list):\n",
        "            flat_list.extend(flatten(sublist))\n",
        "        else:\n",
        "            flat_list.append(sublist)\n",
        "    return flat_list\n",
        "\n",
        "print(flatten([[1, 2], [3, 4], [5]]))"
      ],
      "metadata": {
        "colab": {
          "base_uri": "https://localhost:8080/"
        },
        "id": "l3mrSf1xLvNg",
        "outputId": "40961910-5396-48c6-ed27-ccdfe3ec553f"
      },
      "execution_count": 11,
      "outputs": [
        {
          "output_type": "stream",
          "name": "stdout",
          "text": [
            "[1, 2, 3, 4, 5]\n"
          ]
        }
      ]
    },
    {
      "cell_type": "markdown",
      "source": [
        "**Task 2: Accessing Nested List Elements**\n",
        "\n",
        "Write a Python function that extracts a specific element from a nested list given its indices."
      ],
      "metadata": {
        "id": "FJ6uhF3PLx9t"
      }
    },
    {
      "cell_type": "code",
      "source": [
        "def access_nested_element(lst, indices):\n",
        "    \"\"\"Extracts a specific element from a nested list given its indices.\"\"\"\n",
        "    for index in indices:\n",
        "        lst = lst[index]\n",
        "    return lst\n",
        "\n",
        "print(access_nested_element([[1, 2, 3], [4, 5, 6], [7, 8, 9]], [1, 2]))"
      ],
      "metadata": {
        "colab": {
          "base_uri": "https://localhost:8080/"
        },
        "id": "PUBwSSKNLzKE",
        "outputId": "89863fa9-6d54-4f23-eed6-8591160f58f0"
      },
      "execution_count": 12,
      "outputs": [
        {
          "output_type": "stream",
          "name": "stdout",
          "text": [
            "6\n"
          ]
        }
      ]
    },
    {
      "cell_type": "markdown",
      "source": [
        "**Task 3: Sum of All Elements in a Nested List**\n",
        "\n",
        "Write a Python function that calculates the sum of all the numbers in a nested list (regardless of depth)."
      ],
      "metadata": {
        "id": "Va204tzzL3GG"
      }
    },
    {
      "cell_type": "code",
      "source": [
        "def sum_nested(lst):\n",
        "    \"\"\"Calculates the sum of all the numbers in a nested list.\"\"\"\n",
        "    total = 0\n",
        "    for element in lst:\n",
        "        if isinstance(element, list):\n",
        "            total += sum_nested(element)\n",
        "        else:\n",
        "            total += element\n",
        "    return total\n",
        "\n",
        "print(sum_nested([[1, 2], [3, [4, 5]], 6]))"
      ],
      "metadata": {
        "colab": {
          "base_uri": "https://localhost:8080/"
        },
        "id": "Wx_N3a_qL4B9",
        "outputId": "622a5d34-f4cf-44cf-8cf2-d3e570eb761f"
      },
      "execution_count": 13,
      "outputs": [
        {
          "output_type": "stream",
          "name": "stdout",
          "text": [
            "21\n"
          ]
        }
      ]
    },
    {
      "cell_type": "markdown",
      "source": [
        "**Task 4: Remove Specific Element from a Nested List**\n",
        "\n",
        "Write a Python function that removes all occurrences of a specific element from a nested list."
      ],
      "metadata": {
        "id": "2l4kdebmL6VA"
      }
    },
    {
      "cell_type": "code",
      "source": [
        "def remove_element(lst, elem):\n",
        "    \"\"\"Removes all occurrences of a specific element from a nested list.\"\"\"\n",
        "    return [[remove_element(item, elem) if isinstance(item, list) else item for item in sublist if item != elem] for sublist in lst]\n",
        "\n",
        "print(remove_element([[1, 2], [3, 2], [4, 5]], 2))"
      ],
      "metadata": {
        "colab": {
          "base_uri": "https://localhost:8080/"
        },
        "id": "CTv9G0xFL9Fr",
        "outputId": "d7d2b3b3-2f07-4128-ac36-ab71d61f2706"
      },
      "execution_count": 14,
      "outputs": [
        {
          "output_type": "stream",
          "name": "stdout",
          "text": [
            "[[1], [3], [4, 5]]\n"
          ]
        }
      ]
    },
    {
      "cell_type": "markdown",
      "source": [
        "**Task 5: Find the Maximum Element in a Nested List**\n",
        "\n",
        "Write a Python function that finds the maximum element in a nested list (regardless of depth)."
      ],
      "metadata": {
        "id": "H7bKINBFL_ML"
      }
    },
    {
      "cell_type": "code",
      "source": [
        "def find_max(lst):\n",
        "    \"\"\"Finds the maximum element in a nested list.\"\"\"\n",
        "    max_val = float('-inf')\n",
        "    for element in lst:\n",
        "        if isinstance(element, list):\n",
        "            max_val = max(max_val, find_max(element))\n",
        "        else:\n",
        "            max_val = max(max_val, element)\n",
        "    return max_val\n",
        "\n",
        "print(find_max([[1, 2], [3, [4, 5]], 6]))"
      ],
      "metadata": {
        "colab": {
          "base_uri": "https://localhost:8080/"
        },
        "id": "bEGmxrnDMAB0",
        "outputId": "2696ff9a-29a5-419b-bf4e-285400ffa249"
      },
      "execution_count": 15,
      "outputs": [
        {
          "output_type": "stream",
          "name": "stdout",
          "text": [
            "6\n"
          ]
        }
      ]
    },
    {
      "cell_type": "markdown",
      "source": [
        "**Task 6: Count Occurrences of an Element in a Nested List**\n",
        "\n",
        "Write a Python function that counts how many times a specific element appears in a nested list."
      ],
      "metadata": {
        "id": "0lYfMyaCMDDV"
      }
    },
    {
      "cell_type": "code",
      "source": [
        "def count_occurrences(lst, elem):\n",
        "    \"\"\"Counts how many times a specific element appears in a nested list.\"\"\"\n",
        "    count = 0\n",
        "    for element in lst:\n",
        "        if isinstance(element, list):\n",
        "            count += count_occurrences(element, elem)\n",
        "        else:\n",
        "            if element == elem:\n",
        "                count += 1\n",
        "    return count\n",
        "\n",
        "print(count_occurrences([[1, 2], [2, 3], [2, 4]], 2))"
      ],
      "metadata": {
        "colab": {
          "base_uri": "https://localhost:8080/"
        },
        "id": "zjdD4zwDMEOQ",
        "outputId": "755138a4-7fca-40d9-a711-ca021128aed1"
      },
      "execution_count": 16,
      "outputs": [
        {
          "output_type": "stream",
          "name": "stdout",
          "text": [
            "3\n"
          ]
        }
      ]
    },
    {
      "cell_type": "markdown",
      "source": [
        "**Task 7: Flatten a List of Lists of Lists**\n",
        "\n",
        "Write a Python function that flattens a list of lists of lists into a single list, regardless of the depth."
      ],
      "metadata": {
        "id": "Trrtu27GMEog"
      }
    },
    {
      "cell_type": "code",
      "source": [
        "def deep_flatten(lst):\n",
        "    \"\"\"Flattens a list of lists of lists into a single list, regardless of depth.\"\"\"\n",
        "    flat_list = []\n",
        "    for element in lst:\n",
        "        if isinstance(element, list):\n",
        "            flat_list.extend(deep_flatten(element))\n",
        "        else:\n",
        "            flat_list.append(element)\n",
        "    return flat_list\n",
        "\n",
        "print(deep_flatten([[[1, 2], [3, 4]], [[5, 6], [7, 8]]]))"
      ],
      "metadata": {
        "colab": {
          "base_uri": "https://localhost:8080/"
        },
        "id": "kI18FehDME6p",
        "outputId": "b1d2e215-c30c-4076-88fc-e90b0c05dbc9"
      },
      "execution_count": 17,
      "outputs": [
        {
          "output_type": "stream",
          "name": "stdout",
          "text": [
            "[1, 2, 3, 4, 5, 6, 7, 8]\n"
          ]
        }
      ]
    },
    {
      "cell_type": "markdown",
      "source": [
        "**Task 8: Nested List Average**\n",
        "\n",
        "Write a Python function that calculates the average of all elements in a nested list."
      ],
      "metadata": {
        "id": "P1BIo6lHMLOM"
      }
    },
    {
      "cell_type": "code",
      "source": [
        "def average_nested(lst):\n",
        "    \"\"\"Calculates the average of all elements in a nested list.\"\"\"\n",
        "    total = sum_nested(lst)\n",
        "    count = len(deep_flatten(lst))\n",
        "    return total / count\n",
        "\n",
        "print(average_nested([[1, 2], [3, 4], [5, 6]]))"
      ],
      "metadata": {
        "colab": {
          "base_uri": "https://localhost:8080/"
        },
        "id": "CXkbvuC7MLhR",
        "outputId": "b60badcf-ba94-4020-c85c-e6a045e75f2b"
      },
      "execution_count": 18,
      "outputs": [
        {
          "output_type": "stream",
          "name": "stdout",
          "text": [
            "3.5\n"
          ]
        }
      ]
    },
    {
      "cell_type": "markdown",
      "source": [
        "# **Exercise on NumPy**"
      ],
      "metadata": {
        "id": "IIZxDGlpMQFt"
      }
    },
    {
      "cell_type": "markdown",
      "source": [
        "**Problem 1: Array Creation**\n",
        "1. Initialize an empty array with size 2×2\n",
        "2. Initialize an all-one array with size 4×2.\n",
        "3. Return a new array of given shape and type, filled with fill_value.\n",
        "4. Return a new array of zeros with the same shape and type as a given array.\n",
        "5. Return a new array of ones with the same shape and type as a given array.\n",
        "6. Convert a list [1, 2, 3, 4] to a NumPy array."
      ],
      "metadata": {
        "id": "gQTA6F8IMSJk"
      }
    },
    {
      "cell_type": "code",
      "source": [
        "import numpy as np\n",
        "\n",
        "# 1. Initialize an empty array with size 2x2\n",
        "empty_array = np.empty((2, 2))\n",
        "print(\"Empty array:\\n\", empty_array)\n",
        "\n",
        "# 2. Initialize an all-one array with size 4x2\n",
        "ones_array = np.ones((4, 2))\n",
        "print(\"All ones array:\\n\", ones_array)\n",
        "\n",
        "# 3. Return a new array of given shape and type, filled with fill_value\n",
        "fill_value_array = np.full((3, 3), 5)\n",
        "print(\"Fill value array:\\n\", fill_value_array)\n",
        "\n",
        "# 4. Return a new array of zeros with the same shape and type as a given array\n",
        "given_array = np.array([[1, 2], [3, 4]])\n",
        "zeros_like_array = np.zeros_like(given_array)\n",
        "print(\"Zeros like array:\\n\", zeros_like_array)\n",
        "\n",
        "# 5. Return a new array of ones with the same shape and type as a given array\n",
        "ones_like_array = np.ones_like(given_array)\n",
        "print(\"Ones like array:\\n\", ones_like_array)\n",
        "\n",
        "# 6. Convert a list [1, 2, 3, 4] to a NumPy array\n",
        "new_list = [1, 2, 3, 4]\n",
        "numpy_array = np.array(new_list)\n",
        "print(\"Numpy array from list:\\n\", numpy_array)"
      ],
      "metadata": {
        "colab": {
          "base_uri": "https://localhost:8080/"
        },
        "id": "Y5_-HXw4MPGN",
        "outputId": "fb54c28b-c0eb-4205-fb7e-bc97b87c6851"
      },
      "execution_count": 19,
      "outputs": [
        {
          "output_type": "stream",
          "name": "stdout",
          "text": [
            "Empty array:\n",
            " [[1.88762543e-316 0.00000000e+000]\n",
            " [0.00000000e+000 1.63730806e-306]]\n",
            "All ones array:\n",
            " [[1. 1.]\n",
            " [1. 1.]\n",
            " [1. 1.]\n",
            " [1. 1.]]\n",
            "Fill value array:\n",
            " [[5 5 5]\n",
            " [5 5 5]\n",
            " [5 5 5]]\n",
            "Zeros like array:\n",
            " [[0 0]\n",
            " [0 0]]\n",
            "Ones like array:\n",
            " [[1 1]\n",
            " [1 1]]\n",
            "Numpy array from list:\n",
            " [1 2 3 4]\n"
          ]
        }
      ]
    },
    {
      "cell_type": "markdown",
      "source": [
        "**Problem 2: Array Manipulation**\n",
        "\n",
        "1. Create an array with values ranging from 10 to 49.\n",
        "2. Create a 3×3 matrix with values ranging from 0 to 8.\n",
        "3. Create a 3×3 identity matrix.\n",
        "4. Create a random array of size 30 and find the mean of the array.\n",
        "5. Create a 10×10 array with random values and find the minimum and maximum values.\n",
        "6. Create a zero array of size 10 and replace the 5th element with 1.\n",
        "7. Reverse an array [1, 2, 0, 0, 4, 0].\n",
        "8. Create a 2D array with 1 on the border and 0 inside.\n",
        "9. Create an 8×8 matrix and fill it with a checkerboard pattern.\n"
      ],
      "metadata": {
        "id": "qOT2qarFMWUD"
      }
    },
    {
      "cell_type": "code",
      "source": [
        "import numpy as np\n",
        "\n",
        "# 1. Create an array with values ranging from 10 to 49\n",
        "array_10_to_49 = np.arange(10, 50)\n",
        "print(\"Array from 10 to 49:\\n\", array_10_to_49)\n",
        "\n",
        "# 2. Create a 3x3 matrix with values ranging from 0 to 8\n",
        "matrix_3x3 = np.arange(9).reshape(3, 3)\n",
        "print(\"3x3 matrix:\\n\", matrix_3x3)\n",
        "\n",
        "# 3. Create a 3x3 identity matrix\n",
        "identity_matrix = np.eye(3)\n",
        "print(\"Identity matrix:\\n\", identity_matrix)\n",
        "\n",
        "# 4. Create a random array of size 30 and find the mean\n",
        "random_array = np.random.random(30)\n",
        "mean_value = random_array.mean()\n",
        "print(\"Random array mean:\\n\", mean_value)\n",
        "\n",
        "# 5. Create a 10x10 array with random values and find the min and max\n",
        "random_10x10 = np.random.random((10, 10))\n",
        "min_value = random_10x10.min()\n",
        "max_value = random_10x10.max()\n",
        "print(\"Min value:\\n\", min_value)\n",
        "print(\"Max value:\\n\", max_value)\n",
        "\n",
        "# 6. Create a zero array of size 10 and replace the 5th element with 1\n",
        "zero_array = np.zeros(10)\n",
        "zero_array[4] = 1\n",
        "print(\"Zero array with 5th element replaced:\\n\", zero_array)\n",
        "\n",
        "# 7. Reverse an array [1, 2, 0, 0, 4, 0]\n",
        "array_to_reverse = np.array([1, 2, 0, 0, 4, 0])\n",
        "reversed_array = array_to_reverse[::-1]\n",
        "print(\"Reversed array:\\n\", reversed_array)\n",
        "\n",
        "# 8. Create a 2D array with 1 on the border and 0 inside\n",
        "border_array = np.ones((5, 5))\n",
        "border_array[1:-1, 1:-1] = 0\n",
        "print(\"Border array:\\n\", border_array)\n",
        "\n",
        "# 9. Create an 8x8 matrix and fill it with a checkerboard pattern\n",
        "checkerboard = np.zeros((8, 8))\n",
        "checkerboard[1::2, ::2] = 1\n",
        "checkerboard[::2, 1::2] = 1\n",
        "print(\"Checkerboard pattern:\\n\", checkerboard)"
      ],
      "metadata": {
        "colab": {
          "base_uri": "https://localhost:8080/"
        },
        "id": "n22R3rZUMXtS",
        "outputId": "32ab554a-c37b-4cdf-def9-b07c27a23599"
      },
      "execution_count": 20,
      "outputs": [
        {
          "output_type": "stream",
          "name": "stdout",
          "text": [
            "Array from 10 to 49:\n",
            " [10 11 12 13 14 15 16 17 18 19 20 21 22 23 24 25 26 27 28 29 30 31 32 33\n",
            " 34 35 36 37 38 39 40 41 42 43 44 45 46 47 48 49]\n",
            "3x3 matrix:\n",
            " [[0 1 2]\n",
            " [3 4 5]\n",
            " [6 7 8]]\n",
            "Identity matrix:\n",
            " [[1. 0. 0.]\n",
            " [0. 1. 0.]\n",
            " [0. 0. 1.]]\n",
            "Random array mean:\n",
            " 0.5607180864969277\n",
            "Min value:\n",
            " 0.0054838912491053105\n",
            "Max value:\n",
            " 0.9804203407599374\n",
            "Zero array with 5th element replaced:\n",
            " [0. 0. 0. 0. 1. 0. 0. 0. 0. 0.]\n",
            "Reversed array:\n",
            " [0 4 0 0 2 1]\n",
            "Border array:\n",
            " [[1. 1. 1. 1. 1.]\n",
            " [1. 0. 0. 0. 1.]\n",
            " [1. 0. 0. 0. 1.]\n",
            " [1. 0. 0. 0. 1.]\n",
            " [1. 1. 1. 1. 1.]]\n",
            "Checkerboard pattern:\n",
            " [[0. 1. 0. 1. 0. 1. 0. 1.]\n",
            " [1. 0. 1. 0. 1. 0. 1. 0.]\n",
            " [0. 1. 0. 1. 0. 1. 0. 1.]\n",
            " [1. 0. 1. 0. 1. 0. 1. 0.]\n",
            " [0. 1. 0. 1. 0. 1. 0. 1.]\n",
            " [1. 0. 1. 0. 1. 0. 1. 0.]\n",
            " [0. 1. 0. 1. 0. 1. 0. 1.]\n",
            " [1. 0. 1. 0. 1. 0. 1. 0.]]\n"
          ]
        }
      ]
    },
    {
      "cell_type": "markdown",
      "source": [
        "**Problem 3: Array Operations**\n",
        "\n",
        "Given arrays:\n",
        "\n",
        "x = np.array([[1, 2], [3, 5]])\n",
        "y = np.array([[5, 6], [7, 8]])\n",
        "v = np.array([9, 10])\n",
        "w = np.array([11, 12])\n",
        "\n",
        "Perform the following tasks:\n",
        "1. Add the two arrays.\n",
        "2. Subtract the two arrays.\n",
        "3. Multiply the array with any integer of your choice.\n",
        "4. Find the square of each element of the array.\n",
        "5. Find the dot product between v and w, x and v, and x and y.\n",
        "6. Concatenate x and y along rows and v and w along columns.\n",
        "7. Concatenate x and v; if you get an error, observe and explain why."
      ],
      "metadata": {
        "id": "ij_dr14uMbRh"
      }
    },
    {
      "cell_type": "code",
      "source": [
        "import numpy as np\n",
        "\n",
        "x = np.array([[1, 2], [3, 5]])\n",
        "y = np.array([[5, 6], [7, 8]])\n",
        "v = np.array([9, 10])\n",
        "w = np.array([11, 12])\n",
        "\n",
        "# 1. Add the two arrays\n",
        "add_result = x + y\n",
        "print(\"Addition:\\n\", add_result)\n",
        "\n",
        "# 2. Subtract the two arrays\n",
        "subtract_result = x - y\n",
        "print(\"Subtraction:\\n\", subtract_result)\n",
        "\n",
        "# 3. Multiply the array with any integer\n",
        "multiply_result = x * 2\n",
        "print(\"Multiplication:\\n\", multiply_result)\n",
        "\n",
        "# 4. Find the square of each element of the array\n",
        "square_result = np.square(x)\n",
        "print(\"Square:\\n\", square_result)\n",
        "\n",
        "# 5. Find the dot product between v and w, x and v, and x and y\n",
        "dot_vw = np.dot(v, w)\n",
        "dot_xv = np.dot(x, v)\n",
        "dot_xy = np.dot(x, y)\n",
        "print(\"Dot product v and w:\\n\", dot_vw)\n",
        "print(\"Dot product x and v:\\n\", dot_xv)\n",
        "print(\"Dot product x and y:\\n\", dot_xy)\n",
        "\n",
        "# 6. Concatenate x and y along rows and v and w along columns\n",
        "concat_rows = np.concatenate((x, y), axis=0)\n",
        "concat_cols = np.column_stack((v, w))\n",
        "print(\"Concatenate along rows:\\n\", concat_rows)\n",
        "print(\"Concatenate along columns:\\n\", concat_cols)\n",
        "\n",
        "# 7. Concatenate x and v; if you get an error, observe and explain why\n",
        "try:\n",
        "    concat_xv = np.concatenate((x, v))\n",
        "    print(\"Concatenate x and v:\\n\", concat_xv)\n",
        "except ValueError as e:\n",
        "    print(\"Error:\", e)\n",
        "    print(\"Explanation: x is a 2D array (2x2), while v is a 1D array (2,). Their shapes are incompatible for concatenation.\")"
      ],
      "metadata": {
        "colab": {
          "base_uri": "https://localhost:8080/"
        },
        "id": "Zz0FhiPFMduQ",
        "outputId": "9f106be3-e93c-4249-cbbd-ad70bbd39b75"
      },
      "execution_count": 21,
      "outputs": [
        {
          "output_type": "stream",
          "name": "stdout",
          "text": [
            "Addition:\n",
            " [[ 6  8]\n",
            " [10 13]]\n",
            "Subtraction:\n",
            " [[-4 -4]\n",
            " [-4 -3]]\n",
            "Multiplication:\n",
            " [[ 2  4]\n",
            " [ 6 10]]\n",
            "Square:\n",
            " [[ 1  4]\n",
            " [ 9 25]]\n",
            "Dot product v and w:\n",
            " 219\n",
            "Dot product x and v:\n",
            " [29 77]\n",
            "Dot product x and y:\n",
            " [[19 22]\n",
            " [50 58]]\n",
            "Concatenate along rows:\n",
            " [[1 2]\n",
            " [3 5]\n",
            " [5 6]\n",
            " [7 8]]\n",
            "Concatenate along columns:\n",
            " [[ 9 11]\n",
            " [10 12]]\n",
            "Error: all the input arrays must have same number of dimensions, but the array at index 0 has 2 dimension(s) and the array at index 1 has 1 dimension(s)\n",
            "Explanation: x is a 2D array (2x2), while v is a 1D array (2,). Their shapes are incompatible for concatenation.\n"
          ]
        }
      ]
    },
    {
      "cell_type": "markdown",
      "source": [
        "Problem 4: Matrix Operations\n",
        "Given arrays:\n",
        "\n",
        "A = np.array([[3, 4], [7, 8]])\n",
        "\n",
        "B = np.array([[5, 3], [2, 1]])\n",
        "\n",
        "Prove\n",
        "1. Prove  AA^-1 = I\n",
        "2. Prove  AB ≠ BA\n",
        "3. Prove (AB)^T = B^T A^T"
      ],
      "metadata": {
        "id": "2lB0cATSMiWr"
      }
    },
    {
      "cell_type": "code",
      "source": [
        "import numpy as np\n",
        "\n",
        "A = np.array([[3, 4], [7, 8]])\n",
        "B = np.array([[5, 3], [2, 1]])\n",
        "\n",
        "# 1. Prove AA^{-1} = I\n",
        "A_inv = np.linalg.inv(A)\n",
        "identity = np.dot(A, A_inv)\n",
        "print(\"AA^{-1}:\\n\", identity)\n",
        "\n",
        "# 2. Prove AB != BA\n",
        "AB = np.dot(A, B)\n",
        "BA = np.dot(B, A)\n",
        "print(\"AB:\\n\", AB)\n",
        "print(\"BA:\\n\", BA)\n",
        "print(\"AB != BA:\", not np.array_equal(AB, BA))\n",
        "\n",
        "# 3. Prove (AB)^T = B^T A^T\n",
        "AB_T = AB.T\n",
        "B_T_A_T = np.dot(B.T, A.T)\n",
        "print(\"(AB)^T:\\n\", AB_T)\n",
        "print(\"B^T A^T:\\n\", B_T_A_T)\n",
        "print(\"(AB)^T == B^T A^T:\", np.array_equal(AB_T, B_T_A_T))"
      ],
      "metadata": {
        "colab": {
          "base_uri": "https://localhost:8080/"
        },
        "id": "Xrj7yJkvMkwZ",
        "outputId": "cccadfb8-7cee-4f00-9df6-7ab95a4a2c14"
      },
      "execution_count": 22,
      "outputs": [
        {
          "output_type": "stream",
          "name": "stdout",
          "text": [
            "AA^{-1}:\n",
            " [[1.00000000e+00 0.00000000e+00]\n",
            " [1.77635684e-15 1.00000000e+00]]\n",
            "AB:\n",
            " [[23 13]\n",
            " [51 29]]\n",
            "BA:\n",
            " [[36 44]\n",
            " [13 16]]\n",
            "AB != BA: True\n",
            "(AB)^T:\n",
            " [[23 51]\n",
            " [13 29]]\n",
            "B^T A^T:\n",
            " [[23 51]\n",
            " [13 29]]\n",
            "(AB)^T == B^T A^T: True\n"
          ]
        }
      ]
    },
    {
      "cell_type": "markdown",
      "source": [
        "**Experiment: How Fast is NumPy?**\n",
        "\n",
        "Compare the performance of operations using plain Python lists and NumPy arrays."
      ],
      "metadata": {
        "id": "eIsXdKByMmoI"
      }
    },
    {
      "cell_type": "code",
      "source": [
        "import numpy as np\n",
        "import time\n",
        "\n",
        "# Element-wise Addition\n",
        "size = 10**6\n",
        "a_list = list(range(size))\n",
        "b_list = list(range(size))\n",
        "a_np = np.arange(size)\n",
        "b_np = np.arange(size)\n",
        "\n",
        "# Python Lists\n",
        "start_time = time.time()\n",
        "result_list = [a + b for a, b in zip(a_list, b_list)]\n",
        "end_time = time.time()\n",
        "print(\"Python Lists Addition Time:\", end_time - start_time)\n",
        "\n",
        "# NumPy Arrays\n",
        "start_time = time.time()\n",
        "result_np = a_np + b_np\n",
        "end_time = time.time()\n",
        "print(\"NumPy Arrays Addition Time:\", end_time - start_time)\n",
        "\n",
        "# Element-wise Multiplication\n",
        "# Python Lists\n",
        "start_time = time.time()\n",
        "result_list = [a * b for a, b in zip(a_list, b_list)]\n",
        "end_time = time.time()\n",
        "print(\"Python Lists Multiplication Time:\", end_time - start_time)\n",
        "\n",
        "# NumPy Arrays\n",
        "start_time = time.time()\n",
        "result_np = a_np * b_np\n",
        "end_time = time.time()\n",
        "print(\"NumPy Arrays Multiplication Time:\", end_time - start_time)\n",
        "\n",
        "# Dot Product\n",
        "# Python Lists\n",
        "start_time = time.time()\n",
        "dot_list = sum(a * b for a, b in zip(a_list, b_list))\n",
        "end_time = time.time()\n",
        "print(\"Python Lists Dot Product Time:\", end_time - start_time)\n",
        "\n",
        "# NumPy Arrays\n",
        "start_time = time.time()\n",
        "dot_np = np.dot(a_np, b_np)\n",
        "end_time = time.time()\n",
        "print(\"NumPy Arrays Dot Product Time:\", end_time - start_time)"
      ],
      "metadata": {
        "id": "P9lvHIliMoQX",
        "outputId": "286b2479-5889-4560-94ea-08d94da4dde4",
        "colab": {
          "base_uri": "https://localhost:8080/"
        }
      },
      "execution_count": 23,
      "outputs": [
        {
          "output_type": "stream",
          "name": "stdout",
          "text": [
            "Python Lists Addition Time: 0.11620450019836426\n",
            "NumPy Arrays Addition Time: 0.008435726165771484\n",
            "Python Lists Multiplication Time: 0.11697578430175781\n",
            "NumPy Arrays Multiplication Time: 0.011538505554199219\n",
            "Python Lists Dot Product Time: 0.08814382553100586\n",
            "NumPy Arrays Dot Product Time: 0.0020143985748291016\n"
          ]
        }
      ]
    }
  ]
}